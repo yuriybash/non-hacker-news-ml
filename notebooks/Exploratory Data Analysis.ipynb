{
 "cells": [
  {
   "cell_type": "markdown",
   "metadata": {},
   "source": [
    "# Exporatory Data Analysis\n",
    "\n",
    "Exploratory data analysis of Non-HN dataset.\n",
    "\n",
    "_NB.: using `maths` conda environment of `@paultsw`'s computer._"
   ]
  },
  {
   "cell_type": "code",
   "execution_count": 1,
   "metadata": {},
   "outputs": [],
   "source": [
    "# import the usual suspects for EDA:\n",
    "import numpy as np\n",
    "import pandas as pd\n",
    "import scipy.stats as stats\n",
    "%matplotlib inline\n",
    "import matplotlib.pyplot as plt\n",
    "import seaborn as sns\n",
    "# system utils:\n",
    "import csv\n",
    "import sys\n",
    "import os\n",
    "import pprint\n",
    "from collections import Counter\n",
    "from sklearn.feature_extraction.stop_words import ENGLISH_STOP_WORDS\n",
    "from sklearn.feature_extraction.text import CountVectorizer\n",
    "from tqdm import tqdm, trange"
   ]
  },
  {
   "cell_type": "code",
   "execution_count": 2,
   "metadata": {},
   "outputs": [],
   "source": [
    "# sklearn tools:\n",
    "#from sklearn import (...)"
   ]
  },
  {
   "cell_type": "code",
   "execution_count": 3,
   "metadata": {},
   "outputs": [],
   "source": [
    "# gensim:\n",
    "from gensim.test.utils import common_texts, get_tmpfile\n",
    "from gensim.models import Word2Vec, FastText"
   ]
  },
  {
   "cell_type": "markdown",
   "metadata": {},
   "source": [
    "- - - - -\n",
    "## I. import dataset and do some basic checks."
   ]
  },
  {
   "cell_type": "code",
   "execution_count": 4,
   "metadata": {},
   "outputs": [
    {
     "data": {
      "text/html": [
       "<div>\n",
       "<style scoped>\n",
       "    .dataframe tbody tr th:only-of-type {\n",
       "        vertical-align: middle;\n",
       "    }\n",
       "\n",
       "    .dataframe tbody tr th {\n",
       "        vertical-align: top;\n",
       "    }\n",
       "\n",
       "    .dataframe thead th {\n",
       "        text-align: right;\n",
       "    }\n",
       "</style>\n",
       "<table border=\"1\" class=\"dataframe\">\n",
       "  <thead>\n",
       "    <tr style=\"text-align: right;\">\n",
       "      <th></th>\n",
       "      <th>title</th>\n",
       "      <th>url</th>\n",
       "      <th>noneng</th>\n",
       "    </tr>\n",
       "  </thead>\n",
       "  <tbody>\n",
       "    <tr>\n",
       "      <th>0</th>\n",
       "      <td>git from the inside out</td>\n",
       "      <td>recurse</td>\n",
       "      <td>0</td>\n",
       "    </tr>\n",
       "    <tr>\n",
       "      <th>1</th>\n",
       "      <td>all back issues of omni magazine now available...</td>\n",
       "      <td>boingboing</td>\n",
       "      <td>1</td>\n",
       "    </tr>\n",
       "    <tr>\n",
       "      <th>2</th>\n",
       "      <td>cellphone spy tools have flooded local police ...</td>\n",
       "      <td>citylab</td>\n",
       "      <td>1</td>\n",
       "    </tr>\n",
       "    <tr>\n",
       "      <th>3</th>\n",
       "      <td>how to set up a super productive docker develo...</td>\n",
       "      <td>nrempel</td>\n",
       "      <td>0</td>\n",
       "    </tr>\n",
       "    <tr>\n",
       "      <th>4</th>\n",
       "      <td>the metrics vcs actually care about</td>\n",
       "      <td>heavybit</td>\n",
       "      <td>0</td>\n",
       "    </tr>\n",
       "    <tr>\n",
       "      <th>5</th>\n",
       "      <td>palantir sued over alleged hiring discrimination</td>\n",
       "      <td>wsj</td>\n",
       "      <td>0</td>\n",
       "    </tr>\n",
       "    <tr>\n",
       "      <th>6</th>\n",
       "      <td>graphicsmagick image processing system</td>\n",
       "      <td>graphicsmagick</td>\n",
       "      <td>0</td>\n",
       "    </tr>\n",
       "    <tr>\n",
       "      <th>7</th>\n",
       "      <td>video infrastructure as a service  the bitmovi...</td>\n",
       "      <td>bitmovin</td>\n",
       "      <td>0</td>\n",
       "    </tr>\n",
       "    <tr>\n",
       "      <th>8</th>\n",
       "      <td>tech employees tell your ceo to boycott the tr...</td>\n",
       "      <td>techsolidarity</td>\n",
       "      <td>0</td>\n",
       "    </tr>\n",
       "    <tr>\n",
       "      <th>9</th>\n",
       "      <td>delta functions pdf</td>\n",
       "      <td>berkeley</td>\n",
       "      <td>0</td>\n",
       "    </tr>\n",
       "  </tbody>\n",
       "</table>\n",
       "</div>"
      ],
      "text/plain": [
       "                                               title             url  noneng\n",
       "0                            git from the inside out         recurse       0\n",
       "1  all back issues of omni magazine now available...      boingboing       1\n",
       "2  cellphone spy tools have flooded local police ...         citylab       1\n",
       "3  how to set up a super productive docker develo...         nrempel       0\n",
       "4                the metrics vcs actually care about        heavybit       0\n",
       "5   palantir sued over alleged hiring discrimination             wsj       0\n",
       "6             graphicsmagick image processing system  graphicsmagick       0\n",
       "7  video infrastructure as a service  the bitmovi...        bitmovin       0\n",
       "8  tech employees tell your ceo to boycott the tr...  techsolidarity       0\n",
       "9                                delta functions pdf        berkeley       0"
      ]
     },
     "execution_count": 4,
     "metadata": {},
     "output_type": "execute_result"
    }
   ],
   "source": [
    "data_df = pd.read_csv(\"../data/data.csv\", index_col=False)\n",
    "noneng_df = data_df[data_df['noneng'] == 1]\n",
    "eng_df = data_df[data_df['noneng'] == 0]\n",
    "data_df.head(10)"
   ]
  },
  {
   "cell_type": "code",
   "execution_count": 5,
   "metadata": {},
   "outputs": [
    {
     "name": "stdout",
     "output_type": "stream",
     "text": [
      "Num. non-eng: 1626\n",
      "Num. eng: 8263\n",
      "Ratio (Non-Eng : Eng) = 19.6780830207%\n"
     ]
    }
   ],
   "source": [
    "noneng_df = data_df[data_df['noneng'] == 1]\n",
    "eng_df = data_df[data_df['noneng'] == 0]\n",
    "\n",
    "count_noneng = noneng_df.shape[0]\n",
    "count_eng = eng_df.shape[0]\n",
    "print(\"Num. non-eng: {}\".format(count_noneng))\n",
    "print(\"Num. eng: {}\".format(count_eng))\n",
    "print(\"Ratio (Non-Eng : Eng) = {}%\".format(100. * count_noneng / float(count_eng)))"
   ]
  },
  {
   "cell_type": "markdown",
   "metadata": {},
   "source": [
    "## II. examine some word statistics and generate a pool of unique words."
   ]
  },
  {
   "cell_type": "code",
   "execution_count": 16,
   "metadata": {},
   "outputs": [
    {
     "name": "stdout",
     "output_type": "stream",
     "text": [
      "('technologyreview', 11)\n"
     ]
    }
   ],
   "source": [
    "# stats we are interested in:\n",
    "# \n",
    "# num. of samples: 9888\n",
    "# num. of classes: 2\n",
    "# num. of samples per class: 8263(0), 1625(1)\n",
    "# num. of words per sample (median):\n",
    "#     - Title: 9.0 (noneng), 8.0 (eng)\n",
    "#     - URL: 1.0, 1.0\n",
    "#\n",
    "\n",
    "\n",
    "noneng_words_per_sample = []\n",
    "noneng_words = []\n",
    "\n",
    "eng_words_per_sample = []\n",
    "eng_words = []\n",
    "\n",
    "for sentence in list(data_df[data_df['noneng'] == 1]['title'].values):\n",
    "    words = sentence.split(' ')\n",
    "    noneng_words.extend(words)\n",
    "    noneng_words_per_sample.append(len(words))\n",
    "\n",
    "for sentence in list(data_df[data_df['noneng'] == 0]['title'].values):\n",
    "    words = sentence.split(' ')\n",
    "    eng_words.extend(words)\n",
    "    eng_words_per_sample.append(len(words))\n",
    "\n",
    "# all_words = noneng_words + eng_words\n",
    "# temp = Counter([x for x in all_words if x not in ENGLISH_STOP_WORDS])\n",
    "# pprint.pprint(temp.most_common(10000)[5500])\n",
    "\n",
    "\n",
    "\n",
    "url_noneng_words = []\n",
    "url_eng_words = []\n",
    "for sentence in list(data_df[data_df['noneng'] == 1]['url'].values):\n",
    "    words = sentence.split(' ')\n",
    "    url_noneng_words.extend(words)\n",
    "    url_noneng_words.append(len(words))\n",
    "\n",
    "for sentence in list(data_df[data_df['noneng'] == 0]['url'].values):\n",
    "    words = sentence.split(' ')\n",
    "    url_eng_words.extend(words)\n",
    "    url_eng_words.append(len(words))\n",
    "\n",
    "url_all_words = url_noneng_words + url_eng_words\n",
    "temp2 = Counter([x for x in url_all_words if x not in ENGLISH_STOP_WORDS])\n",
    "pprint.pprint(temp2.most_common(10000)[100])"
   ]
  },
  {
   "cell_type": "markdown",
   "metadata": {},
   "source": [
    "# II. Plot frequency distributions"
   ]
  },
  {
   "cell_type": "code",
   "execution_count": 85,
   "metadata": {},
   "outputs": [
    {
     "data": {
      "image/png": "[encoded data removed]",
      "text/plain": [
       "<Figure size 576x432 with 1 Axes>"
      ]
     },
     "metadata": {
      "needs_background": "light"
     },
     "output_type": "display_data"
    },
    {
     "data": {
      "image/png": "[encoded data removed]",
      "text/plain": [
       "<Figure size 576x432 with 1 Axes>"
      ]
     },
     "metadata": {
      "needs_background": "light"
     },
     "output_type": "display_data"
    },
    {
     "data": {
      "image/png": "[encoded data removed]",
      "text/plain": [
       "<Figure size 1152x864 with 1 Axes>"
      ]
     },
     "metadata": {
      "needs_background": "light"
     },
     "output_type": "display_data"
    },
    {
     "data": {
      "image/png": "[encoded data removed]",
      "text/plain": [
       "<Figure size 1152x864 with 1 Axes>"
      ]
     },
     "metadata": {
      "needs_background": "light"
     },
     "output_type": "display_data"
    }
   ],
   "source": [
    "def plot_sample_length_distribution(sample_texts, title):\n",
    "    plt.figure(figsize=(8,6))\n",
    "    plt.hist([len(s.split(' ')) for s in sample_texts], 50)\n",
    "    plt.xlabel('Length of a sample')\n",
    "    plt.ylabel('Number of samples')\n",
    "    plt.title(title)\n",
    "    plt.show()\n",
    "\n",
    "plot_sample_length_distribution(noneng_df['title'], 'Sample length distribution - noneng')\n",
    "plot_sample_length_distribution(eng_df['title'], 'Sample length distribution - eng')\n",
    "\n",
    "# via https://github.com/google/eng-edu/blob/master/ml/guides/text_classification/explore_data.py\n",
    "def plot_frequency_distribution_of_ngrams(sample_texts,\n",
    "                                          class_,\n",
    "                                          ngram_range=(1, 2),\n",
    "                                          num_ngrams=25):\n",
    "    \"\"\"Plots the frequency distribution of n-grams.\n",
    "\n",
    "    # Arguments\n",
    "        samples_texts: list, sample texts.\n",
    "        ngram_range: tuple (min, mplt), The range of n-gram values to consider.\n",
    "            Min and mplt are the lower and upper bound values for the range.\n",
    "        num_ngrams: int, number of n-grams to plot.\n",
    "            Top `num_ngrams` frequent n-grams will be plotted.\n",
    "    \"\"\"\n",
    "    # Create args required for vectorizing.\n",
    "    kwargs = {\n",
    "            'ngram_range': (1, 1),\n",
    "            'dtype': 'int32',\n",
    "            'strip_accents': 'unicode',\n",
    "            'decode_error': 'replace',\n",
    "            'analyzer': 'word',  # Split text into word tokens.\n",
    "    }\n",
    "    vectorizer = CountVectorizer(**kwargs)\n",
    "\n",
    "    # This creates a vocabulary (dict, where keys are n-grams and values are\n",
    "    # idxices). This also converts every text to an array the length of\n",
    "    # vocabulary, where every element idxicates the count of the n-gram\n",
    "    # corresponding at that idxex in vocabulary.\n",
    "    vectorized_texts = vectorizer.fit_transform(sample_texts)\n",
    "\n",
    "    # This is the list of all n-grams in the index order from the vocabulary.\n",
    "    all_ngrams = list(vectorizer.get_feature_names())\n",
    "    num_ngrams = min(num_ngrams, len(all_ngrams))\n",
    "    # ngrams = all_ngrams[:num_ngrams]\n",
    "\n",
    "    # Add up the counts per n-gram ie. column-wise\n",
    "    all_counts = vectorized_texts.sum(axis=0).tolist()[0]\n",
    "\n",
    "    # Sort n-grams and counts by frequency and get top `num_ngrams` ngrams.\n",
    "    all_counts, all_ngrams = zip(*[(c, n) for c, n in sorted(\n",
    "        zip(all_counts, all_ngrams), reverse=True)])\n",
    "    ngrams = list(all_ngrams)[:num_ngrams]\n",
    "    counts = list(all_counts)[:num_ngrams]\n",
    "\n",
    "    idx = np.arange(num_ngrams)\n",
    "    plt.figure(figsize=(16,12))\n",
    "    plt.bar(idx, counts, width=0.9, color='b')\n",
    "    plt.xlabel('N-grams')\n",
    "    plt.ylabel('Frequencies')\n",
    "    plt.title('Frequency distribution of n-grams: %s' % class_)\n",
    "    plt.xticks(idx, ngrams, rotation=45)\n",
    "    plt.show()\n",
    "\n",
    "# print noneng_words\n",
    "plot_frequency_distribution_of_ngrams([w for w in noneng_words if w not in ENGLISH_STOP_WORDS], 'noneng')\n",
    "plot_frequency_distribution_of_ngrams([w for w in eng_words if w not in ENGLISH_STOP_WORDS], 'eng')\n"
   ]
  },
  {
   "cell_type": "code",
   "execution_count": null,
   "metadata": {},
   "outputs": [],
   "source": []
  },
  {
   "cell_type": "code",
   "execution_count": null,
   "metadata": {},
   "outputs": [],
   "source": []
  },
  {
   "cell_type": "code",
   "execution_count": null,
   "metadata": {},
   "outputs": [],
   "source": []
  },
  {
   "cell_type": "code",
   "execution_count": null,
   "metadata": {},
   "outputs": [],
   "source": []
  },
  {
   "cell_type": "code",
   "execution_count": null,
   "metadata": {},
   "outputs": [],
   "source": []
  },
  {
   "cell_type": "markdown",
   "metadata": {},
   "source": [
    "## III. exploration of word embedding models: Word2Vec, FastText"
   ]
  },
  {
   "cell_type": "code",
   "execution_count": 19,
   "metadata": {},
   "outputs": [],
   "source": [
    "# get formatted list of lists of words from all titles:\n",
    "all_sentences = [s.strip().split() for s in data_df['title'].values]\n",
    "# ... from just the engineering titles:\n",
    "eng_sentences = [s.strip().split() for s in data_df[data_df['noneng'] == 0]['title'].values]\n",
    "# ... and from just the non-engineering titles:\n",
    "noneng_sentences = [s.strip().split() for s in data_df[data_df['noneng'] == 1]['title'].values]"
   ]
  },
  {
   "cell_type": "code",
   "execution_count": 21,
   "metadata": {},
   "outputs": [],
   "source": [
    "# train a word2vec model on all sentences:\n",
    "# arguments:\n",
    "# size ~ dimension of embedding vector space\n",
    "# window ~ window size of each word\n",
    "# min_count ~ ignore words that appear fewer than min_count times in the entire corpus of data\n",
    "# workers ~ threads to use\n",
    "# sg ~ if 1, use skip-gram training (0 -> continuous bag-of-words model; we're using skip-gram for rare words)\n",
    "model_w2v = Word2Vec(sentences=all_sentences, size=100, window=5, min_count=5, workers=3, sg=1)"
   ]
  },
  {
   "cell_type": "code",
   "execution_count": 25,
   "metadata": {},
   "outputs": [
    {
     "data": {
      "text/plain": [
       "[('safety', 0.9989723563194275),\n",
       " ('releasing', 0.9985957145690918),\n",
       " ('contains', 0.9985491037368774),\n",
       " ('readers', 0.9985160827636719),\n",
       " ('next-gen', 0.9984472990036011),\n",
       " ('eu', 0.9984416365623474),\n",
       " ('girl', 0.9984038472175598),\n",
       " ('xss', 0.9983392953872681),\n",
       " ('collects', 0.9983255863189697),\n",
       " ('picks', 0.9982678890228271)]"
      ]
     },
     "execution_count": 25,
     "metadata": {},
     "output_type": "execute_result"
    }
   ],
   "source": [
    "# check out a few most-similar-words evaluations on some random words and compute distances:\n",
    "model_w2v.wv.most_similar(\"campaign\")"
   ]
  },
  {
   "cell_type": "code",
   "execution_count": 33,
   "metadata": {},
   "outputs": [
    {
     "data": {
      "text/plain": [
       "[0.024290895, 0.06838648, 0.04055692]"
      ]
     },
     "execution_count": 33,
     "metadata": {},
     "output_type": "execute_result"
    }
   ],
   "source": [
    "[np.sum(np.power(model_w2v.wv['campaign'] - model_w2v.wv[_word], 2.)) for _word in ['safety', 'contains', 'next-gen']]"
   ]
  },
  {
   "cell_type": "code",
   "execution_count": 26,
   "metadata": {},
   "outputs": [
    {
     "data": {
      "text/plain": [
       "[('happened', 0.9939441084861755),\n",
       " ('almost', 0.9933430552482605),\n",
       " ('cost', 0.9920545816421509),\n",
       " ('replace', 0.9913919568061829),\n",
       " ('broken', 0.9913278818130493),\n",
       " ('startups', 0.9911482334136963),\n",
       " ('employees', 0.9910067915916443),\n",
       " ('america', 0.99090576171875),\n",
       " ('his', 0.9904655814170837),\n",
       " ('genius', 0.9904117584228516)]"
      ]
     },
     "execution_count": 26,
     "metadata": {},
     "output_type": "execute_result"
    }
   ],
   "source": [
    "model_w2v.wv.most_similar(\"internet\")"
   ]
  },
  {
   "cell_type": "code",
   "execution_count": 34,
   "metadata": {},
   "outputs": [
    {
     "data": {
      "text/plain": [
       "[0.028187377, 0.04174581, 0.040919397]"
      ]
     },
     "execution_count": 34,
     "metadata": {},
     "output_type": "execute_result"
    }
   ],
   "source": [
    "[np.sum(np.power(model_w2v.wv['internet'] - model_w2v.wv[_word], 2.)) for _word in ['happened', 'broken', 'genius']]"
   ]
  },
  {
   "cell_type": "code",
   "execution_count": 27,
   "metadata": {},
   "outputs": [
    {
     "data": {
      "text/plain": [
       "[('slower', 0.9909306764602661),\n",
       " ('long', 0.9904853105545044),\n",
       " ('fall', 0.9897018074989319),\n",
       " ('safer', 0.9895232915878296),\n",
       " ('2007', 0.989295482635498),\n",
       " ('worth', 0.9891735315322876),\n",
       " ('cobol', 0.988878607749939),\n",
       " ('cpython', 0.9883400797843933),\n",
       " ('solve', 0.9883016347885132),\n",
       " ('easiest', 0.9879031777381897)]"
      ]
     },
     "execution_count": 27,
     "metadata": {},
     "output_type": "execute_result"
    }
   ],
   "source": [
    "model_w2v.wv.most_similar(\"right\")"
   ]
  },
  {
   "cell_type": "code",
   "execution_count": 35,
   "metadata": {},
   "outputs": [
    {
     "data": {
      "text/plain": [
       "[0.0458754, 0.047672693, 0.19075617]"
      ]
     },
     "execution_count": 35,
     "metadata": {},
     "output_type": "execute_result"
    }
   ],
   "source": [
    "[np.sum(np.power(model_w2v.wv['right'] - model_w2v.wv[_word], 2.)) for _word in ['slower', 'worth', 'cobol']]"
   ]
  },
  {
   "cell_type": "code",
   "execution_count": 28,
   "metadata": {},
   "outputs": [
    {
     "data": {
      "text/plain": [
       "[('lawsuit', 0.9985125064849854),\n",
       " ('sun', 0.9983959197998047),\n",
       " ('december', 0.998370349407196),\n",
       " ('patches', 0.9980621337890625),\n",
       " ('drupal', 0.9978747367858887),\n",
       " ('paris', 0.9977258443832397),\n",
       " ('sequel', 0.9976789355278015),\n",
       " ('rights', 0.9974321126937866),\n",
       " ('shares', 0.9973852634429932),\n",
       " ('follow', 0.9973822832107544)]"
      ]
     },
     "execution_count": 28,
     "metadata": {},
     "output_type": "execute_result"
    }
   ],
   "source": [
    "model_w2v.wv.most_similar(\"costs\")"
   ]
  },
  {
   "cell_type": "code",
   "execution_count": 36,
   "metadata": {},
   "outputs": [
    {
     "data": {
      "text/plain": [
       "[0.0120189395, 0.06709887, 0.064355806]"
      ]
     },
     "execution_count": 36,
     "metadata": {},
     "output_type": "execute_result"
    }
   ],
   "source": [
    "[np.sum(np.power(model_w2v.wv['costs'] - model_w2v.wv[_word], 2.)) for _word in ['lawsuit', 'paris', 'shares']]"
   ]
  },
  {
   "cell_type": "code",
   "execution_count": 29,
   "metadata": {},
   "outputs": [
    {
     "data": {
      "text/plain": [
       "[('illegal', 0.9990853071212769),\n",
       " ('radios', 0.9990560412406921),\n",
       " ('bubble', 0.9990074634552002),\n",
       " ('acquisition', 0.9990014433860779),\n",
       " ('japan', 0.9989989995956421),\n",
       " ('strange', 0.9989743828773499),\n",
       " ('39', 0.9989455342292786),\n",
       " ('accused', 0.9989310503005981),\n",
       " ('500m', 0.9989277124404907),\n",
       " ('spacex', 0.9989216923713684)]"
      ]
     },
     "execution_count": 29,
     "metadata": {},
     "output_type": "execute_result"
    }
   ],
   "source": [
    "model_w2v.wv.most_similar(\"electric\")"
   ]
  },
  {
   "cell_type": "code",
   "execution_count": 37,
   "metadata": {},
   "outputs": [
    {
     "data": {
      "text/plain": [
       "[0.0027745592, 0.004293309, 0.011509068]"
      ]
     },
     "execution_count": 37,
     "metadata": {},
     "output_type": "execute_result"
    }
   ],
   "source": [
    "[np.sum(np.power(model_w2v.wv['electric'] - model_w2v.wv[_word], 2.)) for _word in ['illegal', 'strange', 'spacex']]"
   ]
  },
  {
   "cell_type": "code",
   "execution_count": null,
   "metadata": {},
   "outputs": [],
   "source": []
  },
  {
   "cell_type": "code",
   "execution_count": null,
   "metadata": {},
   "outputs": [],
   "source": []
  },
  {
   "cell_type": "code",
   "execution_count": null,
   "metadata": {},
   "outputs": [],
   "source": []
  },
  {
   "cell_type": "code",
   "execution_count": null,
   "metadata": {},
   "outputs": [],
   "source": []
  },
  {
   "cell_type": "code",
   "execution_count": null,
   "metadata": {},
   "outputs": [],
   "source": []
  },
  {
   "cell_type": "code",
   "execution_count": null,
   "metadata": {},
   "outputs": [],
   "source": []
  },
  {
   "cell_type": "code",
   "execution_count": null,
   "metadata": {},
   "outputs": [],
   "source": []
  },
  {
   "cell_type": "code",
   "execution_count": null,
   "metadata": {},
   "outputs": [],
   "source": []
  },
  {
   "cell_type": "code",
   "execution_count": null,
   "metadata": {},
   "outputs": [],
   "source": []
  },
  {
   "cell_type": "code",
   "execution_count": null,
   "metadata": {},
   "outputs": [],
   "source": []
  },
  {
   "cell_type": "code",
   "execution_count": null,
   "metadata": {},
   "outputs": [],
   "source": []
  },
  {
   "cell_type": "code",
   "execution_count": null,
   "metadata": {},
   "outputs": [],
   "source": []
  },
  {
   "cell_type": "code",
   "execution_count": null,
   "metadata": {},
   "outputs": [],
   "source": []
  },
  {
   "cell_type": "code",
   "execution_count": null,
   "metadata": {},
   "outputs": [],
   "source": []
  }
 ],
 "metadata": {
  "kernelspec": {
   "display_name": "Python 2",
   "language": "python",
   "name": "python2"
  },
  "language_info": {
   "codemirror_mode": {
    "name": "ipython",
    "version": 2
   },
   "file_extension": ".py",
   "mimetype": "text/x-python",
   "name": "python",
   "nbconvert_exporter": "python",
   "pygments_lexer": "ipython2",
   "version": "2.7.15"
  }
 },
 "nbformat": 4,
 "nbformat_minor": 2
}

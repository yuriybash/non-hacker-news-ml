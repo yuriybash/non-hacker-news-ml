{
 "cells": [
  {
   "cell_type": "markdown",
   "metadata": {},
   "source": [
    "## Evaluating results"
   ]
  },
  {
   "cell_type": "markdown",
   "metadata": {},
   "source": [
    "Let's look at one of the most effective models created - a Multinomial Naive Bayesian model, with minor Laplace smoothing, and n=500 top features used in a tfidf vectorizer."
   ]
  },
  {
   "cell_type": "code",
   "execution_count": 31,
   "metadata": {},
   "outputs": [],
   "source": [
    "# data analysis and wrangling\n",
    "import pandas as pd\n",
    "import pickle\n",
    "import numpy as np\n",
    "import random as rnd\n",
    "\n",
    "# visualization\n",
    "import seaborn as sns\n",
    "import matplotlib.pyplot as plt\n",
    "# %matplotlib inline\n",
    "\n",
    "# other\n",
    "from datetime import datetime\n",
    "\n",
    "# machine learning\n",
    "from imblearn.over_sampling import SMOTE\n",
    "from sklearn.feature_extraction.text import TfidfVectorizer\n",
    "from sklearn.metrics import auc, classification_report, confusion_matrix, roc_curve, precision_score"
   ]
  },
  {
   "cell_type": "code",
   "execution_count": 25,
   "metadata": {},
   "outputs": [],
   "source": [
    "def prep_data(in_file):\n",
    "    data_df = pd.read_csv(in_file)\n",
    "    title_vectorizer = TfidfVectorizer(max_features=500)\n",
    "    title_vectorizer.fit(data_df.title)\n",
    "    X_title = title_vectorizer.transform(data_df.title).toarray()\n",
    "\n",
    "    url_vectorizer = TfidfVectorizer(max_features=500)\n",
    "    url_vectorizer.fit(data_df.url)\n",
    "    X_url = url_vectorizer.transform(data_df.url).toarray()\n",
    "\n",
    "    X = np.concatenate([X_title, X_url], axis=1)\n",
    "    Y = data_df['noneng'].values\n",
    "\n",
    "    return X, Y\n",
    "\n",
    "def display_scores(scores):\n",
    "    print(\"Scores: \", scores)\n",
    "    print(\"Mean: \", scores.mean())\n",
    "    print(\"STD Dev: \", scores.std())\n",
    "\n",
    "def draw_roc_curve(clf, X_test, Y_test):\n",
    "    probs = clf.predict_proba(X_test)\n",
    "    preds = probs[:,1]\n",
    "    fpr, tpr, threshold = roc_curve(Y_test, preds)\n",
    "    roc_auc = auc(fpr, tpr)\n",
    "    \n",
    "    plt.title('ROC Curve - MNB (alpha=0.1)')\n",
    "    plt.plot(fpr, tpr, 'b', label = 'AUC = %0.2f' % roc_auc)\n",
    "    plt.legend(loc = 'lower right')\n",
    "    plt.plot([0, 1], [0, 1],'r--')\n",
    "    plt.xlim([0, 1])\n",
    "    plt.ylim([0, 1])\n",
    "    plt.ylabel('True Positive Rate')\n",
    "    plt.xlabel('False Positive Rate')\n",
    "    plt.show()\n",
    "\n",
    "with open('../models/nb_hand_oversampled.pkl', 'r') as f:\n",
    "    clf = pickle.loads(f.read())\n",
    "\n",
    "X, Y = prep_data('../data/data.csv')\n",
    "X_train, Y_train = SMOTE().fit_resample(X[8000:], Y[8000:])\n",
    "X_test, Y_test = X[:8000], Y[:8000]\n",
    "Y_pred = clf.predict(X_test)"
   ]
  },
  {
   "cell_type": "code",
   "execution_count": 21,
   "metadata": {},
   "outputs": [
    {
     "name": "stdout",
     "output_type": "stream",
     "text": [
      "              precision    recall  f1-score   support\n",
      "\n",
      "           0       0.98      0.79      0.87      6683\n",
      "           1       0.46      0.91      0.61      1317\n",
      "\n",
      "   micro avg       0.81      0.81      0.81      8000\n",
      "   macro avg       0.72      0.85      0.74      8000\n",
      "weighted avg       0.89      0.81      0.83      8000\n",
      "\n",
      "[[5268 1415]\n",
      " [ 117 1200]]\n"
     ]
    }
   ],
   "source": [
    "print classification_report(Y_test, Y_pred)\n",
    "print confusion_matrix(Y_test, Y_pred)"
   ]
  },
  {
   "cell_type": "code",
   "execution_count": 28,
   "metadata": {},
   "outputs": [
    {
     "data": {
      "image/png": "[encoded data removed]",
      "text/plain": [
       "<Figure size 432x288 with 1 Axes>"
      ]
     },
     "metadata": {
      "needs_background": "light"
     },
     "output_type": "display_data"
    }
   ],
   "source": [
    "draw_roc_curve(clf, X_test, Y_test)"
   ]
  },
  {
   "cell_type": "code",
   "execution_count": null,
   "metadata": {},
   "outputs": [],
   "source": []
  }
 ],
 "metadata": {
  "kernelspec": {
   "display_name": "Python 2",
   "language": "python",
   "name": "python2"
  },
  "language_info": {
   "codemirror_mode": {
    "name": "ipython",
    "version": 2
   },
   "file_extension": ".py",
   "mimetype": "text/x-python",
   "name": "python",
   "nbconvert_exporter": "python",
   "pygments_lexer": "ipython2",
   "version": "2.7.15"
  }
 },
 "nbformat": 4,
 "nbformat_minor": 2
}

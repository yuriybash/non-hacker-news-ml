{
 "cells": [
  {
   "cell_type": "markdown",
   "metadata": {},
   "source": [
    "# Exporatory Data Analysis\n",
    "\n",
    "Exploratory data analysis of Non-HN dataset.\n",
    "\n",
    "_NB.: using `maths` conda environment of `@paultsw`'s computer._"
   ]
  },
  {
   "cell_type": "code",
   "execution_count": 9,
   "metadata": {},
   "outputs": [],
   "source": [
    "# import the usual suspects for EDA:\n",
    "import numpy as np\n",
    "import pandas as pd\n",
    "import scipy.stats as stats\n",
    "%matplotlib inline\n",
    "import matplotlib.pyplot as plt\n",
    "import seaborn as sns\n",
    "# system utils:\n",
    "import csv\n",
    "import sys\n",
    "import os\n",
    "from tqdm import tqdm, trange"
   ]
  },
  {
   "cell_type": "code",
   "execution_count": 3,
   "metadata": {},
   "outputs": [],
   "source": [
    "# sklearn tools:\n",
    "#from sklearn import (...)"
   ]
  },
  {
   "cell_type": "code",
   "execution_count": 8,
   "metadata": {},
   "outputs": [],
   "source": [
    "# gensim:\n",
    "from gensim.test.utils import common_texts, get_tmpfile\n",
    "from gensim.models import Word2Vec, FastText"
   ]
  },
  {
   "cell_type": "markdown",
   "metadata": {},
   "source": [
    "- - - - -\n",
    "## I. import dataset and do some basic checks."
   ]
  },
  {
   "cell_type": "code",
   "execution_count": 2,
   "metadata": {},
   "outputs": [
    {
     "data": {
      "text/html": [
       "<div>\n",
       "<style scoped>\n",
       "    .dataframe tbody tr th:only-of-type {\n",
       "        vertical-align: middle;\n",
       "    }\n",
       "\n",
       "    .dataframe tbody tr th {\n",
       "        vertical-align: top;\n",
       "    }\n",
       "\n",
       "    .dataframe thead th {\n",
       "        text-align: right;\n",
       "    }\n",
       "</style>\n",
       "<table border=\"1\" class=\"dataframe\">\n",
       "  <thead>\n",
       "    <tr style=\"text-align: right;\">\n",
       "      <th></th>\n",
       "      <th>title</th>\n",
       "      <th>url</th>\n",
       "      <th>noneng</th>\n",
       "    </tr>\n",
       "  </thead>\n",
       "  <tbody>\n",
       "    <tr>\n",
       "      <th>0</th>\n",
       "      <td>google cloud sql for postgres now in beta</td>\n",
       "      <td>google</td>\n",
       "      <td>0</td>\n",
       "    </tr>\n",
       "    <tr>\n",
       "      <th>1</th>\n",
       "      <td>drivetribes modern take on cqrs with apache flink</td>\n",
       "      <td>data-artisans</td>\n",
       "      <td>0</td>\n",
       "    </tr>\n",
       "    <tr>\n",
       "      <th>2</th>\n",
       "      <td>vmware joins linux foundation and what about t...</td>\n",
       "      <td>gnumonks</td>\n",
       "      <td>0</td>\n",
       "    </tr>\n",
       "    <tr>\n",
       "      <th>3</th>\n",
       "      <td>running spark sql cern queries 5x faster on sn...</td>\n",
       "      <td>snappydata</td>\n",
       "      <td>0</td>\n",
       "    </tr>\n",
       "    <tr>\n",
       "      <th>4</th>\n",
       "      <td>sjcl  stanford javascript crypto library</td>\n",
       "      <td>github</td>\n",
       "      <td>0</td>\n",
       "    </tr>\n",
       "    <tr>\n",
       "      <th>5</th>\n",
       "      <td>zcoin implementation bug enabled attacker to c...</td>\n",
       "      <td>wordpress</td>\n",
       "      <td>0</td>\n",
       "    </tr>\n",
       "    <tr>\n",
       "      <th>6</th>\n",
       "      <td>show hn scribblechat for ios opengl chat clien...</td>\n",
       "      <td>getscribblechat</td>\n",
       "      <td>0</td>\n",
       "    </tr>\n",
       "    <tr>\n",
       "      <th>7</th>\n",
       "      <td>a tale of three kings  testing python elixir a...</td>\n",
       "      <td>medium</td>\n",
       "      <td>0</td>\n",
       "    </tr>\n",
       "    <tr>\n",
       "      <th>8</th>\n",
       "      <td>the selinux coloring book pdf</td>\n",
       "      <td>redhat</td>\n",
       "      <td>0</td>\n",
       "    </tr>\n",
       "    <tr>\n",
       "      <th>9</th>\n",
       "      <td>announcing docker enterprise edition</td>\n",
       "      <td>docker</td>\n",
       "      <td>0</td>\n",
       "    </tr>\n",
       "  </tbody>\n",
       "</table>\n",
       "</div>"
      ],
      "text/plain": [
       "                                               title              url  noneng\n",
       "0          google cloud sql for postgres now in beta           google       0\n",
       "1  drivetribes modern take on cqrs with apache flink    data-artisans       0\n",
       "2  vmware joins linux foundation and what about t...         gnumonks       0\n",
       "3  running spark sql cern queries 5x faster on sn...       snappydata       0\n",
       "4           sjcl  stanford javascript crypto library           github       0\n",
       "5  zcoin implementation bug enabled attacker to c...        wordpress       0\n",
       "6  show hn scribblechat for ios opengl chat clien...  getscribblechat       0\n",
       "7  a tale of three kings  testing python elixir a...           medium       0\n",
       "8                      the selinux coloring book pdf           redhat       0\n",
       "9               announcing docker enterprise edition           docker       0"
      ]
     },
     "execution_count": 2,
     "metadata": {},
     "output_type": "execute_result"
    }
   ],
   "source": [
    "data_df = pd.read_csv(\"../data/train_eng_labeled_01_19.csv\", index_col=False)\n",
    "data_df.head(10)"
   ]
  },
  {
   "cell_type": "code",
   "execution_count": 13,
   "metadata": {},
   "outputs": [
    {
     "name": "stdout",
     "output_type": "stream",
     "text": [
      "Num. non-eng: 333\n",
      "Num. eng: 21986\n",
      "Ratio (Non-Eng : Eng) = 1.51460020013%\n"
     ]
    }
   ],
   "source": [
    "count_noneng = data_df[data_df['noneng'] == 1].shape[0]\n",
    "count_eng = data_df[data_df['noneng'] == 0].shape[0]\n",
    "print(\"Num. non-eng: {}\".format(count_noneng))\n",
    "print(\"Num. eng: {}\".format(count_eng))\n",
    "print(\"Ratio (Non-Eng : Eng) = {}%\".format(100. * count_noneng / float(count_eng)))"
   ]
  },
  {
   "cell_type": "markdown",
   "metadata": {},
   "source": [
    "## II. examine some word statistics and generate a pool of unique words."
   ]
  },
  {
   "cell_type": "code",
   "execution_count": 15,
   "metadata": {},
   "outputs": [
    {
     "data": {
      "text/plain": [
       "['experience i spent 29 years in solitary confinement 2010',\n",
       " 'fancy trees with botanist',\n",
       " 'how propagandists abuse the internet and manipulate the public pdf',\n",
       " 'the hidden cost of privatization',\n",
       " 'a 12-month campaign of fake news to influence elections costs 400000',\n",
       " 'berkeleys attack on housing',\n",
       " 'louisiana records give insight into businesses that utilize prison labor',\n",
       " 'e-cigarettes potentially as harmful as tobacco cigarettes',\n",
       " 'a radical new hypothesis in medicine give patients drugs they know dont work',\n",
       " 'citybikes bike sharing networks around the world',\n",
       " 'tv batman actor adam west dies at 88',\n",
       " 'optimizing things in the ussr',\n",
       " 'doing things the wrong way to get the right result',\n",
       " 'the multibillion euro theft',\n",
       " 'i need loyalty james comeys riveting prepared testimony annotated',\n",
       " 'even moderate drinking could harm the brain',\n",
       " 'oldest fossils of homo sapiens found in morocco',\n",
       " 'five men agree to stand directly under an exploding nuclear bomb',\n",
       " 'no one gives a fuck about climate change',\n",
       " 'las crisis high rents low pay and 2000 doesnt buy much',\n",
       " 'stop trying to be original and be prolific instead',\n",
       " 'trump announces plans to privatize us air traffic control system',\n",
       " 'best answer to sell me this pen i have ever seen',\n",
       " 'saudi arabia bahrain egypt uae cut diplomatic ties with qatar',\n",
       " 'london bridge multiple casualties after incident',\n",
       " 'no your phone didnt ring so why voice mail from a telemarketer',\n",
       " 'all back issues of omni magazine now available online',\n",
       " 'wal-mart will pay employees to deliver packages on their way home',\n",
       " 'trump quits paris climate accord calling it a bad deal for the us',\n",
       " 'us quits paris climate pact',\n",
       " 'trump is pulling the us out of the paris climate agreement',\n",
       " 'science was ignored today',\n",
       " 'trump to withdraw from paris accord',\n",
       " 'paris climate agreement trump withdraws us from global accord',\n",
       " 'will trumps slow-mo walkaway finally provoke consequences for planetary arson',\n",
       " 'trump just withdrew the us from the paris climate agreement',\n",
       " 'trump will start years-long process to withdraw from paris climate agreement',\n",
       " 'the swiss leaks and panama papers open a window on the tax-dodgers world',\n",
       " 'heres what happened when iran introduced a basic income',\n",
       " 'hidden away for 28 years tiananmen protest pictures see light of day',\n",
       " 'in prais of the philly stoop',\n",
       " 'political polarization may emerge because of conflicting desires not beliefs',\n",
       " 'why our attentions spans are shot',\n",
       " 'everything you thought you knew about learning is wrong 2012',\n",
       " 'trump poised to quit paris climate deal',\n",
       " 'usa pulls out of paris climate deal',\n",
       " 'going for the 5 hour workday',\n",
       " 'electric cars soon cost less than gas cars research shows',\n",
       " 'i want to apologize for how this tragedy has hurt our stock price',\n",
       " 'us may put emergency tariffs on solar imports',\n",
       " 'song calling uk leader liar hits top 10 radio stations wont play',\n",
       " 'are cia officers as bad ass as in the movies',\n",
       " 'could we run modern society on human power alone',\n",
       " 'coffee from california',\n",
       " 'angela merkel europe must take our fate into own hands',\n",
       " 'the woolly mammoths last stand',\n",
       " 'why germany still has so many middle-class manufacturing jobs',\n",
       " 'angela merkel says germany can no longer rely on america',\n",
       " 'show hn how sharing a bed with my girlfriend changed my sleep',\n",
       " 'video analysis of erdogans security detail brawl in washington',\n",
       " 'opinion getting rich has more to do with luck than talent',\n",
       " 'fec ted cruz failed to report more than 1m in loans',\n",
       " 'top countries with easy work permits for international students',\n",
       " 'philosophy of ghost in the shell',\n",
       " 'changing the way we talk and think about africa',\n",
       " 'white-owned restaurants shamed for serving ethnic food',\n",
       " 'dog sits on the editorial boards of seven international medical journals',\n",
       " 'china cant sustain its debt-fueled binge moodys says',\n",
       " 'at the dawn of recorded sound no one cared',\n",
       " 'roger moore has died',\n",
       " 'germany is building a european army under its command',\n",
       " 'how to save money while paying for educational expenses abroad from india',\n",
       " 'the airport lawyers who stood up to trump are under attack',\n",
       " 'intersex patients routinely had diagnoses withheld by doctors',\n",
       " 'study by mit economist us has regressed to a third-world nation for most',\n",
       " 'what know-it-alls dont know or the illusion of competence',\n",
       " 'killing cia informants china crippled us spying operations',\n",
       " 'you want a description of hell oxycontins 12-hour problem',\n",
       " 'unemployment in the us is falling so why isnt pay rising',\n",
       " 'debunking america has become so anti-innovation  its economic suicide',\n",
       " 'the heroin business is booming in america',\n",
       " 'uk government plan to introduce huge restrictions on what people can post online',\n",
       " 'swedish prosecutors drop julian assange rape investigation',\n",
       " 'sweden drops assange rape investigation',\n",
       " 'boost  your personal advisor and career coach',\n",
       " 'how tales of flippers led to a housing bubble',\n",
       " 'nasas van allen probes find human-made bubble shrouding earth',\n",
       " 'us household debt surpasses 2008 high',\n",
       " 'former fbi director named special counsel for russia investigation',\n",
       " 'record low housing inventory is freaking us out says redfin ceo',\n",
       " 'fbi investigation louie louie the song 1964',\n",
       " 'hyundai whistle-blower in rarity for south korea prompts recall',\n",
       " 'rich retirees are hoarding cash out of fear',\n",
       " 'the wests obsession with itself',\n",
       " 'when the world is led by a child',\n",
       " 'william gibsons never-filmed aliens sequel',\n",
       " 'bombshell initial thoughts on the washington posts game-changing story',\n",
       " 'report trump gave classified information to russians during white house visit',\n",
       " 'trump revealed highly classified intelligence to russia',\n",
       " 'trump reportedly revealed highly classified information to russians last week',\n",
       " 'trump revealed highly classified information to russians',\n",
       " 'nearly 1 in 3 drugs have a significant safety issue after fda approval',\n",
       " 'basic income is a dead end',\n",
       " 'basic income in a just society',\n",
       " 'are pop lyrics getting more repetitive',\n",
       " 'the gender pay gap is largely because of motherhood',\n",
       " 'chinas 1 trillion plan to shake up the economic order',\n",
       " 'the painful truth about americas humiliating dental-health divide',\n",
       " 'chelsea manning prepares for freedom i want to breathe the warm spring air',\n",
       " '110m-year-old dinosaur discovered with skin and soft tissue intact',\n",
       " 'guaranteed minimum what',\n",
       " 'how i made 200 return betting on footbal',\n",
       " 'ghost in the shell original soundtrack mystery',\n",
       " 'wyomings war on wolves',\n",
       " 'were bad at death can we talk',\n",
       " 'mma fighters pummeling of tai chi master rattles china',\n",
       " 'america has become so anti-innovation  its economic suicide',\n",
       " 'colleges think women having sex is dangerous laura kipnis says theyre wrong',\n",
       " 'us trump fires fbi director',\n",
       " 'us census director resigns amid turmoil over funding of 2020 count',\n",
       " 'fbi director james comey fired by trump',\n",
       " 'president trump fires fbi director james comey',\n",
       " 'president trump dismisses fbi director comey',\n",
       " 'affordable housing program costs more shelters less',\n",
       " 'how homeownership became the engine of american inequality',\n",
       " 'get started making music',\n",
       " 'saudi king orders that women no longer need mans permission to travel or study',\n",
       " 'us life expectancy varies by more than 20 years from county to county',\n",
       " 'sold for parts',\n",
       " 'the ambition-marriage trade-off too many single women face',\n",
       " 'norways progress party calls for ban on circumcision for boys',\n",
       " 'epa dismisses half of its scientific advisers on key board',\n",
       " 'wikipedia has cancer',\n",
       " 'emmanuel macron is the new prsident de la rpublique 651  of the votes',\n",
       " 'french election macron defeats le pen to become president',\n",
       " 'at us colleges chinas government is creating clubs to curb anti-chinese speech',\n",
       " 'scared for my life why are crime victims being jailed',\n",
       " 'aspirin may prevent cancer from spreading new research shows',\n",
       " 'did a selfie accidentally reveal the administrations plan to halt all visas',\n",
       " 'a new social contract with basic income',\n",
       " 'weed will soon clobber beer sales wall street says',\n",
       " 'house passes measure to repeal and replace the affordable care act',\n",
       " 'giving the behemoths a leg up on the little guy',\n",
       " 'interactive map of toronto housing changes 2011-2016',\n",
       " 'fbi director comey backs new feinstein push for decrypt bill',\n",
       " 'to understand brexit look to britains tabloids',\n",
       " 'puerto rico files for biggest ever us local government bankruptcy',\n",
       " 'sprints magic box',\n",
       " 'scotus rejects guilty until proven innocent  cant keep money from the innocent',\n",
       " 'varoufakis new memoir on 2015 crisis',\n",
       " 'the best-paying internships in america',\n",
       " 'the real reason chinatown produce is crazy cheap',\n",
       " 'the leaked fyre festival pitch deck is beyond parody',\n",
       " 'un report lays bare the waste of treating homes as commodities',\n",
       " 'how zip codes nearly masked the lead problem in flint 2016',\n",
       " 'turkey purges 4000 more officials and blocks wikipedia',\n",
       " 'juice may taste good but unlike the fruit its not healthy',\n",
       " 'archive of 1588 national parks maps',\n",
       " 'wikipedia blocked in turkey',\n",
       " 'the arctic as it is known today is almost certainly gone',\n",
       " 'united airlines announces changes to improve customer experience',\n",
       " 'new york eyes a breathlyzer for texting while driving',\n",
       " 'verbs associated with gender across 100000 stories',\n",
       " 'why getting fired is worse than divorce',\n",
       " '3 new bridges rise in new york with looks that could stop traffic',\n",
       " 'white house proposes slashing tax rates for individuals and businesses',\n",
       " 'new evidence suggests humans arrived in the americas far earlier than thought',\n",
       " 'why doesnt pakistan reform its blasphemy laws',\n",
       " 'a practitioners guide to hedonism 2007',\n",
       " 'new england lost ski areas project',\n",
       " 'the media bubble is worse than you think',\n",
       " 'cracking the mystery of labors falling share of gdp',\n",
       " 'is every speed limit too low',\n",
       " 'a look at the ugly side of getting rich',\n",
       " 'bernanke warns that a politicized us economy will create bad policies',\n",
       " 'bart takeover robbery 40 to 60 teens swarm train rob weekend riders',\n",
       " 'we are already fighting world war iii',\n",
       " 'a lot of what you know about north korea is racist nonsense',\n",
       " 'curse of knowledge',\n",
       " 'the solution to the housing crisis is extremely simple',\n",
       " 'how airline workers learn to deal with you',\n",
       " 'us tax filings are down 5 as of april 15 2017',\n",
       " 'power outages coincide in la new york and san francisco',\n",
       " 'fight inequality is a poor rallying cry',\n",
       " 'louisianas governor declares state of emergency over disappearing coastline',\n",
       " 'the worlds strangest mammal can survive 18 minutes without oxygen',\n",
       " 'the nightmare scenario for floridas coastal homeowners',\n",
       " 'why i love swedish taxes',\n",
       " 'i used to support legalizing all drugs then the opioid epidemic happened',\n",
       " 'bill oreilly is forced out at fox news',\n",
       " 'young white america is haunted by a crisis of despair',\n",
       " 'what its like to lose your short-term memory',\n",
       " 'the vast majority of vegetarians and vegans eventually return to meat',\n",
       " 'usa facts',\n",
       " 'theresa may calls for uk general election',\n",
       " 'theresa may to seek snap election for 8 june',\n",
       " 'telling children hard work gets you to the top is simply a lie',\n",
       " 'post office stamps as currency 1862',\n",
       " 'the 9-minute strength workout',\n",
       " 'receding glacier causes immense canadian river to vanish in four days',\n",
       " 'how the airlines became abusive cartels',\n",
       " 'rip turkey 1921  2017',\n",
       " 'horseshoe crab blood is a medical marvel so we are bleeding 500000 every year',\n",
       " 'the despair of learning that experience no longer matters',\n",
       " 'turkey referendum erdogan camp set to win after most votes counted',\n",
       " 'chinas return to religion',\n",
       " 'how many jobs really require college',\n",
       " 'why did my patient leave me',\n",
       " 'brexit bites as eu workers start to leave the uk',\n",
       " 'united passenger dragged from plane needs reconstructive surgery  lawyer',\n",
       " 'richard posner the real corruption is the ownership of congress by the rich',\n",
       " 'filing taxes in japan is a breeze why not here',\n",
       " 'how united airlines went from friendly skies to throwing people off flights',\n",
       " 'us drops largest non-nuclear bomb in afghanistan',\n",
       " 'charging bull sculptor says new yorks fearless girl statue violates his rights',\n",
       " 'humble people make the best leaders why do we fall for charismatic narcissists',\n",
       " 'more americans now work full-time from home than walk and bike to office jobs',\n",
       " 'harvard study shows snowball method best way to get out of debt',\n",
       " 'turkey is sliding into dictatorship',\n",
       " 'united passenger removal a reporting and management failure',\n",
       " 'the art of hollywoods made-up languages from dothraki to klingon',\n",
       " 'man charged after us gamer is shot by swat following hoax terrorism call',\n",
       " 'united airlines just lost 800m in value',\n",
       " 'will london fall',\n",
       " 'leaked email from united airlines ceo blames passenger for violent removal',\n",
       " 'how i learned to take the sat like a rich kid',\n",
       " 'a man wouldnt leave an overbooked united flight so he was dragged off',\n",
       " 'man forcibly dragged off united airlines flight after overbooking',\n",
       " 'the gig economys false promise',\n",
       " 'chechnya opens concentration camp for gays',\n",
       " 'americans are skeptical that hard work will pay off',\n",
       " 'i survived a sarin gas attack',\n",
       " '100 photos inside north korea  part 1',\n",
       " 'the utter uselessness of job interviews',\n",
       " 'modafinil-induced changes in functional connectivity of healthy elderly subjects',\n",
       " 'will mexico get half of its territory back',\n",
       " 'a girl was found living among monkeys in an indian forest',\n",
       " 'the syrian gas attack persuasion',\n",
       " 'americas biggest new reading trend obsessed with multitasking with audio books',\n",
       " 'new york city bans employers from asking potential workers about past salary',\n",
       " 'us launches missile strike on syria',\n",
       " 'seventeen techniques for truth suppression',\n",
       " 'us strikes syrian military airfield',\n",
       " 'us launches over 50 missiles at syrian military base',\n",
       " 'bank of america your name looks close enough so well give your money away',\n",
       " 'these high school journalists investigated a new principals credentials',\n",
       " 'inspector general criticizes the irs for seizing money from innocent people',\n",
       " 'its now illegal in russia to share an image of putin as a gay clown',\n",
       " 'steve bannon out of national security role',\n",
       " 'harry shearer why my spinal tap lawsuit affects all creators',\n",
       " 'men and women cant be just friends',\n",
       " 'the lasting consequences of student debt',\n",
       " 'blackwater founder held seychelles meeting to establish trump-putin back channel',\n",
       " 'student debt giant navient to borrowers youre on your own',\n",
       " 'top obama adviser sought names of trump associates in intel',\n",
       " 'every attempt to manage academia makes it worse',\n",
       " 'our dishonest president',\n",
       " 'trump may force thousands of legal immigrants to stop working or head home',\n",
       " 'fbi releases 25 previously unseen photos from 911 attack at pentagon',\n",
       " 'do millennial men want stay-at-home wives',\n",
       " 'ex-trump adviser flynn seeks immunity for testimony in russia probe wsj',\n",
       " 'mike flynn offers to testify in exchange for immunity',\n",
       " 'untalented rich still earn more',\n",
       " 'ny times trump adiminstrations war on science',\n",
       " 'if you publish georgias state laws youll get sued for copyright and lose',\n",
       " 'new male contraceptive may be submitted for indian approval this year',\n",
       " 'five maps that will change how you see the world',\n",
       " 'scottish parliament backs independence vote and defies uk',\n",
       " 'tell me when it closes',\n",
       " 'insanity is doing the same thing and expecting different results',\n",
       " 'dont discriminate against mutants like me',\n",
       " 'trump to sign order sweeping away obama-era climate policies',\n",
       " 'fixing monopoly',\n",
       " 'why is this little construction crane illegal in new york city 2016',\n",
       " 'why drug prices in america are so high 2016',\n",
       " 'populism is the result of global economic failure',\n",
       " 'russian police arrest anti-corruption leader hundreds in nationwide rallies',\n",
       " 'an illustrated book of bad arguments',\n",
       " 'theres no glory in overworking  its just imminent burnout',\n",
       " 'i gave up tv then qualified for olympic marathon trials and got my phd',\n",
       " 'survey finds foreign students arent applying to american colleges',\n",
       " 'want to raise successful kids send them to school a year later',\n",
       " 'why capitalism creates pointless jobs  evonomics',\n",
       " 'republicans pull healthcare legislation plan in blow to trump',\n",
       " 'trumps first legislative effort fails as gop pulls bill to repeal obamacare',\n",
       " 'how the government ruined us healthcare  and what can be done',\n",
       " 'good news on the california drought',\n",
       " 'americans are dying with an average of 62k of debt',\n",
       " 'some saudi women are secretly deserting their country',\n",
       " 'trump data gurus leave long trail of subterfuge dubious dealing',\n",
       " 'rents in megacities cant go up forever',\n",
       " 'what does it take to climb up the ladder',\n",
       " 'ancient romans depicted huns as barbarians their bones tell a different story',\n",
       " 'guy who got a c on constitutional-amendment paper gets constitution amended',\n",
       " 'parliament shooting',\n",
       " 'reports of shots outside uk parliament',\n",
       " 'a tracking chip was removed from a patient who was a victim of human trafficking',\n",
       " 'a hot bath has benefits similar to exercise',\n",
       " 'david rockefeller has died',\n",
       " 'how to learn new things as an adult',\n",
       " 'the logic behind japanese sentence structure',\n",
       " 'suicides in rural america increased more than 40 in 16 years',\n",
       " 'dont fly during ramadan 2013',\n",
       " 'too many people are going to new zealand and thats a problem',\n",
       " 'wages rise on california farms americans still dont want the job',\n",
       " 'everyone loves bernie sanders except it seems the democratic party',\n",
       " 'utah reduced chronic homelessness by 91 percent',\n",
       " 'why we should all have a basic income',\n",
       " 'returning to america and the unaffordable care act',\n",
       " 'consistent vegetarianism and the suffering of wild animals',\n",
       " 'romania dictionary altered to thwart exam cheats',\n",
       " 'anthony bourdain does not want to owe anybody even a single dollar',\n",
       " 'norway mass murderer breivik was already damaged by the age of two',\n",
       " 'brain aging gene discovered',\n",
       " 'the politics of backlash  neo-liberalism rewarda the rich',\n",
       " 'justice department charging russian spies and criminal hackers in yahoo intrusion',\n",
       " 'german traffic light stays red for 28 years',\n",
       " 'unless youre oprah be yourself is terrible advice 2016',\n",
       " 'venezuela is falling apart scenes from daily life in the failing state',\n",
       " 'why are the highly educated so liberal',\n",
       " 'uk parliament gives theresa may permission to start brexit',\n",
       " 'america needs to get over its reverence for the bachelors degree',\n",
       " 'the 10000-hour rule is wrong and perpetuates a cruel myth',\n",
       " 'clarence thomas seems ready to stop civil asset forfeiture',\n",
       " 'pharma really really doesnt want you to know the true value of its drugs',\n",
       " 'just 15 of the biggest ships emit more oxides than all of the worlds cars',\n",
       " 'california has the nations highest poverty rate',\n",
       " 'nobel economist takes aim at rent-seeking banking and healthcare industries',\n",
       " 'children prefer to read books on paper rather than screens',\n",
       " 'working while female',\n",
       " 'south korean president impeached',\n",
       " 'i was a marine i cant be silent about the sexual harassment i faced anymore',\n",
       " 'laziness isnt why people are poor and iphones arent why they lack health care']"
      ]
     },
     "execution_count": 15,
     "metadata": {},
     "output_type": "execute_result"
    }
   ],
   "source": [
    "# [TODO: THIS SECTION IS WORK-IN-PROGRESS]\n",
    "for sentence in list(data_df[data_df['noneng'] == 1]['title'].values):"
   ]
  },
  {
   "cell_type": "code",
   "execution_count": null,
   "metadata": {},
   "outputs": [],
   "source": [
    ""
   ]
  },
  {
   "cell_type": "code",
   "execution_count": null,
   "metadata": {},
   "outputs": [],
   "source": [
    ""
   ]
  },
  {
   "cell_type": "code",
   "execution_count": null,
   "metadata": {},
   "outputs": [],
   "source": [
    ""
   ]
  },
  {
   "cell_type": "code",
   "execution_count": null,
   "metadata": {},
   "outputs": [],
   "source": [
    ""
   ]
  },
  {
   "cell_type": "code",
   "execution_count": null,
   "metadata": {},
   "outputs": [],
   "source": [
    ""
   ]
  },
  {
   "cell_type": "code",
   "execution_count": null,
   "metadata": {},
   "outputs": [],
   "source": [
    ""
   ]
  },
  {
   "cell_type": "code",
   "execution_count": null,
   "metadata": {},
   "outputs": [],
   "source": [
    ""
   ]
  },
  {
   "cell_type": "code",
   "execution_count": null,
   "metadata": {},
   "outputs": [],
   "source": [
    ""
   ]
  },
  {
   "cell_type": "markdown",
   "metadata": {},
   "source": [
    "## III. exploration of word embedding models: Word2Vec, FastText"
   ]
  },
  {
   "cell_type": "code",
   "execution_count": 19,
   "metadata": {},
   "outputs": [],
   "source": [
    "# get formatted list of lists of words from all titles:\n",
    "all_sentences = [s.strip().split() for s in data_df['title'].values]\n",
    "# ... from just the engineering titles:\n",
    "eng_sentences = [s.strip().split() for s in data_df[data_df['noneng'] == 0]['title'].values]\n",
    "# ... and from just the non-engineering titles:\n",
    "noneng_sentences = [s.strip().split() for s in data_df[data_df['noneng'] == 1]['title'].values]"
   ]
  },
  {
   "cell_type": "code",
   "execution_count": 21,
   "metadata": {},
   "outputs": [],
   "source": [
    "# train a word2vec model on all sentences:\n",
    "# arguments:\n",
    "# size ~ dimension of embedding vector space\n",
    "# window ~ window size of each word\n",
    "# min_count ~ ignore words that appear fewer than min_count times in the entire corpus of data\n",
    "# workers ~ threads to use\n",
    "# sg ~ if 1, use skip-gram training (0 -> continuous bag-of-words model; we're using skip-gram for rare words)\n",
    "model_w2v = Word2Vec(sentences=all_sentences, size=100, window=5, min_count=5, workers=3, sg=1)"
   ]
  },
  {
   "cell_type": "code",
   "execution_count": 25,
   "metadata": {},
   "outputs": [
    {
     "data": {
      "text/plain": [
       "[('safety', 0.9989723563194275),\n",
       " ('releasing', 0.9985957145690918),\n",
       " ('contains', 0.9985491037368774),\n",
       " ('readers', 0.9985160827636719),\n",
       " ('next-gen', 0.9984472990036011),\n",
       " ('eu', 0.9984416365623474),\n",
       " ('girl', 0.9984038472175598),\n",
       " ('xss', 0.9983392953872681),\n",
       " ('collects', 0.9983255863189697),\n",
       " ('picks', 0.9982678890228271)]"
      ]
     },
     "execution_count": 25,
     "metadata": {},
     "output_type": "execute_result"
    }
   ],
   "source": [
    "# check out a few most-similar-words evaluations on some random words and compute distances:\n",
    "model_w2v.wv.most_similar(\"campaign\")"
   ]
  },
  {
   "cell_type": "code",
   "execution_count": 33,
   "metadata": {},
   "outputs": [
    {
     "data": {
      "text/plain": [
       "[0.024290895, 0.06838648, 0.04055692]"
      ]
     },
     "execution_count": 33,
     "metadata": {},
     "output_type": "execute_result"
    }
   ],
   "source": [
    "[np.sum(np.power(model_w2v.wv['campaign'] - model_w2v.wv[_word], 2.)) for _word in ['safety', 'contains', 'next-gen']]"
   ]
  },
  {
   "cell_type": "code",
   "execution_count": 26,
   "metadata": {},
   "outputs": [
    {
     "data": {
      "text/plain": [
       "[('happened', 0.9939441084861755),\n",
       " ('almost', 0.9933430552482605),\n",
       " ('cost', 0.9920545816421509),\n",
       " ('replace', 0.9913919568061829),\n",
       " ('broken', 0.9913278818130493),\n",
       " ('startups', 0.9911482334136963),\n",
       " ('employees', 0.9910067915916443),\n",
       " ('america', 0.99090576171875),\n",
       " ('his', 0.9904655814170837),\n",
       " ('genius', 0.9904117584228516)]"
      ]
     },
     "execution_count": 26,
     "metadata": {},
     "output_type": "execute_result"
    }
   ],
   "source": [
    "model_w2v.wv.most_similar(\"internet\")"
   ]
  },
  {
   "cell_type": "code",
   "execution_count": 34,
   "metadata": {},
   "outputs": [
    {
     "data": {
      "text/plain": [
       "[0.028187377, 0.04174581, 0.040919397]"
      ]
     },
     "execution_count": 34,
     "metadata": {},
     "output_type": "execute_result"
    }
   ],
   "source": [
    "[np.sum(np.power(model_w2v.wv['internet'] - model_w2v.wv[_word], 2.)) for _word in ['happened', 'broken', 'genius']]"
   ]
  },
  {
   "cell_type": "code",
   "execution_count": 27,
   "metadata": {},
   "outputs": [
    {
     "data": {
      "text/plain": [
       "[('slower', 0.9909306764602661),\n",
       " ('long', 0.9904853105545044),\n",
       " ('fall', 0.9897018074989319),\n",
       " ('safer', 0.9895232915878296),\n",
       " ('2007', 0.989295482635498),\n",
       " ('worth', 0.9891735315322876),\n",
       " ('cobol', 0.988878607749939),\n",
       " ('cpython', 0.9883400797843933),\n",
       " ('solve', 0.9883016347885132),\n",
       " ('easiest', 0.9879031777381897)]"
      ]
     },
     "execution_count": 27,
     "metadata": {},
     "output_type": "execute_result"
    }
   ],
   "source": [
    "model_w2v.wv.most_similar(\"right\")"
   ]
  },
  {
   "cell_type": "code",
   "execution_count": 35,
   "metadata": {},
   "outputs": [
    {
     "data": {
      "text/plain": [
       "[0.0458754, 0.047672693, 0.19075617]"
      ]
     },
     "execution_count": 35,
     "metadata": {},
     "output_type": "execute_result"
    }
   ],
   "source": [
    "[np.sum(np.power(model_w2v.wv['right'] - model_w2v.wv[_word], 2.)) for _word in ['slower', 'worth', 'cobol']]"
   ]
  },
  {
   "cell_type": "code",
   "execution_count": 28,
   "metadata": {},
   "outputs": [
    {
     "data": {
      "text/plain": [
       "[('lawsuit', 0.9985125064849854),\n",
       " ('sun', 0.9983959197998047),\n",
       " ('december', 0.998370349407196),\n",
       " ('patches', 0.9980621337890625),\n",
       " ('drupal', 0.9978747367858887),\n",
       " ('paris', 0.9977258443832397),\n",
       " ('sequel', 0.9976789355278015),\n",
       " ('rights', 0.9974321126937866),\n",
       " ('shares', 0.9973852634429932),\n",
       " ('follow', 0.9973822832107544)]"
      ]
     },
     "execution_count": 28,
     "metadata": {},
     "output_type": "execute_result"
    }
   ],
   "source": [
    "model_w2v.wv.most_similar(\"costs\")"
   ]
  },
  {
   "cell_type": "code",
   "execution_count": 36,
   "metadata": {},
   "outputs": [
    {
     "data": {
      "text/plain": [
       "[0.0120189395, 0.06709887, 0.064355806]"
      ]
     },
     "execution_count": 36,
     "metadata": {},
     "output_type": "execute_result"
    }
   ],
   "source": [
    "[np.sum(np.power(model_w2v.wv['costs'] - model_w2v.wv[_word], 2.)) for _word in ['lawsuit', 'paris', 'shares']]"
   ]
  },
  {
   "cell_type": "code",
   "execution_count": 29,
   "metadata": {},
   "outputs": [
    {
     "data": {
      "text/plain": [
       "[('illegal', 0.9990853071212769),\n",
       " ('radios', 0.9990560412406921),\n",
       " ('bubble', 0.9990074634552002),\n",
       " ('acquisition', 0.9990014433860779),\n",
       " ('japan', 0.9989989995956421),\n",
       " ('strange', 0.9989743828773499),\n",
       " ('39', 0.9989455342292786),\n",
       " ('accused', 0.9989310503005981),\n",
       " ('500m', 0.9989277124404907),\n",
       " ('spacex', 0.9989216923713684)]"
      ]
     },
     "execution_count": 29,
     "metadata": {},
     "output_type": "execute_result"
    }
   ],
   "source": [
    "model_w2v.wv.most_similar(\"electric\")"
   ]
  },
  {
   "cell_type": "code",
   "execution_count": 37,
   "metadata": {},
   "outputs": [
    {
     "data": {
      "text/plain": [
       "[0.0027745592, 0.004293309, 0.011509068]"
      ]
     },
     "execution_count": 37,
     "metadata": {},
     "output_type": "execute_result"
    }
   ],
   "source": [
    "[np.sum(np.power(model_w2v.wv['electric'] - model_w2v.wv[_word], 2.)) for _word in ['illegal', 'strange', 'spacex']]"
   ]
  },
  {
   "cell_type": "code",
   "execution_count": null,
   "metadata": {},
   "outputs": [],
   "source": [
    ""
   ]
  },
  {
   "cell_type": "code",
   "execution_count": null,
   "metadata": {},
   "outputs": [],
   "source": [
    ""
   ]
  },
  {
   "cell_type": "code",
   "execution_count": null,
   "metadata": {},
   "outputs": [],
   "source": [
    ""
   ]
  },
  {
   "cell_type": "code",
   "execution_count": null,
   "metadata": {},
   "outputs": [],
   "source": [
    ""
   ]
  },
  {
   "cell_type": "code",
   "execution_count": null,
   "metadata": {},
   "outputs": [],
   "source": [
    ""
   ]
  },
  {
   "cell_type": "code",
   "execution_count": null,
   "metadata": {},
   "outputs": [],
   "source": [
    ""
   ]
  },
  {
   "cell_type": "code",
   "execution_count": null,
   "metadata": {},
   "outputs": [],
   "source": [
    ""
   ]
  },
  {
   "cell_type": "code",
   "execution_count": null,
   "metadata": {},
   "outputs": [],
   "source": [
    ""
   ]
  },
  {
   "cell_type": "code",
   "execution_count": null,
   "metadata": {},
   "outputs": [],
   "source": [
    ""
   ]
  },
  {
   "cell_type": "code",
   "execution_count": null,
   "metadata": {},
   "outputs": [],
   "source": [
    ""
   ]
  },
  {
   "cell_type": "code",
   "execution_count": null,
   "metadata": {},
   "outputs": [],
   "source": [
    ""
   ]
  },
  {
   "cell_type": "code",
   "execution_count": null,
   "metadata": {},
   "outputs": [],
   "source": [
    ""
   ]
  },
  {
   "cell_type": "code",
   "execution_count": null,
   "metadata": {},
   "outputs": [],
   "source": [
    ""
   ]
  },
  {
   "cell_type": "code",
   "execution_count": null,
   "metadata": {},
   "outputs": [],
   "source": [
    ""
   ]
  }
 ],
 "metadata": {
  "kernelspec": {
   "display_name": "Python 3",
   "language": "python",
   "name": "python3"
  },
  "language_info": {
   "codemirror_mode": {
    "name": "ipython",
    "version": 2.0
   },
   "file_extension": ".py",
   "mimetype": "text/x-python",
   "name": "python",
   "nbconvert_exporter": "python",
   "pygments_lexer": "ipython2",
   "version": "2.7.15"
  }
 },
 "nbformat": 4,
 "nbformat_minor": 0
}